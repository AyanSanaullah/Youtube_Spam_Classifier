{
 "cells": [
  {
   "cell_type": "code",
   "execution_count": 1,
   "metadata": {},
   "outputs": [
    {
     "name": "stdout",
     "output_type": "stream",
     "text": [
      "Requirement already satisfied: youtube-comment-downloader in c:\\users\\ays\\anaconda3\\lib\\site-packages (0.1.76)\n",
      "Requirement already satisfied: pandas in c:\\users\\ays\\anaconda3\\lib\\site-packages (2.2.2)\n",
      "Requirement already satisfied: dateparser in c:\\users\\ays\\anaconda3\\lib\\site-packages (from youtube-comment-downloader) (1.2.0)\n",
      "Requirement already satisfied: requests in c:\\users\\ays\\anaconda3\\lib\\site-packages (from youtube-comment-downloader) (2.32.3)\n",
      "Requirement already satisfied: numpy>=1.23.2 in c:\\users\\ays\\anaconda3\\lib\\site-packages (from pandas) (1.26.4)\n",
      "Requirement already satisfied: python-dateutil>=2.8.2 in c:\\users\\ays\\anaconda3\\lib\\site-packages (from pandas) (2.9.0.post0)\n",
      "Requirement already satisfied: pytz>=2020.1 in c:\\users\\ays\\anaconda3\\lib\\site-packages (from pandas) (2024.1)\n",
      "Requirement already satisfied: tzdata>=2022.7 in c:\\users\\ays\\anaconda3\\lib\\site-packages (from pandas) (2023.3)\n",
      "Requirement already satisfied: six>=1.5 in c:\\users\\ays\\anaconda3\\lib\\site-packages (from python-dateutil>=2.8.2->pandas) (1.16.0)\n",
      "Requirement already satisfied: regex!=2019.02.19,!=2021.8.27 in c:\\users\\ays\\anaconda3\\lib\\site-packages (from dateparser->youtube-comment-downloader) (2024.7.24)\n",
      "Requirement already satisfied: tzlocal in c:\\users\\ays\\anaconda3\\lib\\site-packages (from dateparser->youtube-comment-downloader) (5.2)\n",
      "Requirement already satisfied: charset-normalizer<4,>=2 in c:\\users\\ays\\anaconda3\\lib\\site-packages (from requests->youtube-comment-downloader) (3.3.2)\n",
      "Requirement already satisfied: idna<4,>=2.5 in c:\\users\\ays\\anaconda3\\lib\\site-packages (from requests->youtube-comment-downloader) (3.7)\n",
      "Requirement already satisfied: urllib3<3,>=1.21.1 in c:\\users\\ays\\anaconda3\\lib\\site-packages (from requests->youtube-comment-downloader) (2.2.2)\n",
      "Requirement already satisfied: certifi>=2017.4.17 in c:\\users\\ays\\anaconda3\\lib\\site-packages (from requests->youtube-comment-downloader) (2024.7.4)\n",
      "Note: you may need to restart the kernel to use updated packages.\n"
     ]
    }
   ],
   "source": [
    "pip install youtube-comment-downloader pandas"
   ]
  },
  {
   "cell_type": "code",
   "execution_count": 2,
   "metadata": {},
   "outputs": [
    {
     "name": "stdout",
     "output_type": "stream",
     "text": [
      "Processing: https://www.youtube.com/watch?v=XcalQixHHdo\n",
      "Processing: https://www.youtube.com/watch?v=k-OZ6raN_0k\n",
      "Processing: https://www.youtube.com/watch?v=fuPf6vOiZWI\n",
      "Processing: https://www.youtube.com/watch?v=qd46_1M-a2g\n",
      "Processing: https://www.youtube.com/watch?v=hymOcUjxIzs\n",
      "Processing: https://www.youtube.com/watch?v=TQokR99D6UY\n",
      "Processing: https://www.youtube.com/watch?v=dOrsgI7UVDQ\n",
      "Comments saved to youtube_comments.csv\n"
     ]
    }
   ],
   "source": [
    "from youtube_comment_downloader import YoutubeCommentDownloader\n",
    "from pytube import Playlist\n",
    "import pandas as pd\n",
    "\n",
    "def get_comments(video_url, sort_by=0):\n",
    "    downloader = YoutubeCommentDownloader()\n",
    "    comments = []\n",
    "    for comment in downloader.get_comments_from_url(video_url, sort_by=sort_by):\n",
    "        comments.append(comment['text'])\n",
    "    return comments\n",
    "\n",
    "def get_video_urls_from_playlist(playlist_url):\n",
    "    playlist = Playlist(playlist_url)\n",
    "    return playlist.video_urls\n",
    "\n",
    "def save_comments_to_csv(video_urls, output_file='youtube_comments.csv'):\n",
    "    all_comments = []\n",
    "    for url in video_urls:\n",
    "        print(f\"Processing: {url}\")\n",
    "        comments = get_comments(url)\n",
    "        for comment in comments:\n",
    "            all_comments.append({'video_url': url, 'comment': comment})\n",
    "\n",
    "    # Convert list of dictionaries to DataFrame\n",
    "    df = pd.DataFrame(all_comments)\n",
    "\n",
    "    # Save DataFrame to CSV\n",
    "    df.to_csv(output_file, index=False)\n",
    "    print(f\"Comments saved to {output_file}\")\n",
    "\n",
    "if __name__ == \"__main__\":\n",
    "    # Example playlist URL\n",
    "    playlist_url = \"https://www.youtube.com/playlist?list=PLw5u9LweX-8ZVawMNxQTF8NQj-gxfem4y\"\n",
    "\n",
    "    # Extract video URLs from the playlist\n",
    "    video_urls = get_video_urls_from_playlist(playlist_url)\n",
    "\n",
    "    # Save comments to CSV\n",
    "    save_comments_to_csv(video_urls)"
   ]
  }
 ],
 "metadata": {
  "kernelspec": {
   "display_name": "base",
   "language": "python",
   "name": "python3"
  },
  "language_info": {
   "codemirror_mode": {
    "name": "ipython",
    "version": 3
   },
   "file_extension": ".py",
   "mimetype": "text/x-python",
   "name": "python",
   "nbconvert_exporter": "python",
   "pygments_lexer": "ipython3",
   "version": "3.11.5"
  }
 },
 "nbformat": 4,
 "nbformat_minor": 2
}
